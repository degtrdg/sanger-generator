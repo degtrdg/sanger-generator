{
 "cells": [
  {
   "cell_type": "code",
   "execution_count": 3,
   "metadata": {},
   "outputs": [],
   "source": [
    "from Bio import SeqIO\n",
    "import os\n",
    "\n",
    "# Path to the main FASTA file\n",
    "fasta_file = 'fasta.homo_sapiens.0000'\n",
    "\n",
    "# Directory to save the individual FASTA files\n",
    "output_dir = 'fasta_files'\n",
    "os.makedirs(output_dir, exist_ok=True)\n",
    "\n",
    "# Iterate through the sequences in the main FASTA file\n",
    "for record in SeqIO.parse(fasta_file, \"fasta\"):\n",
    "    # Extract the name attribute from the header\n",
    "    sequence_name = [part.split(\":\")[1] for part in record.description.split() if part.startswith(\"name:\")][0]\n",
    "    \n",
    "    # Construct the output file path\n",
    "    output_file_path = os.path.join(output_dir, sequence_name + '.fasta')\n",
    "    \n",
    "    # Write the sequence to the individual FASTA file\n",
    "    with open(output_file_path, 'w') as output_file:\n",
    "        SeqIO.write(record, output_file, \"fasta\")"
   ]
  },
  {
   "cell_type": "code",
   "execution_count": 7,
   "metadata": {},
   "outputs": [
    {
     "name": "stdout",
     "output_type": "stream",
     "text": [
      "Ignoring empty chromatogram file traces/X09140N00-01.csv\n"
     ]
    }
   ],
   "source": [
    "import torch\n",
    "import pandas as pd\n",
    "from Bio import SeqIO\n",
    "import os\n",
    "\n",
    "# Hyperparameters\n",
    "batch_size = 16\n",
    "seq_length = 300\n",
    "\n",
    "# Directories containing the CSV files and corresponding FASTA files\n",
    "traces_dir = 'traces'\n",
    "fasta_dir = 'fasta_files'\n",
    "\n",
    "# Lists to store the data\n",
    "chromatogram_list = []\n",
    "sequence_list = []\n",
    "\n",
    "# One-hot encoding mapping\n",
    "nucleotide_mapping = {'A': [1, 0, 0, 0, 0], 'T': [0, 1, 0, 0, 0], 'C': [0, 0, 1, 0, 0], 'G': [0, 0, 0, 1, 0], 'N': [0, 0, 0, 0, 1]}\n",
    "\n",
    "# Iterate through the CSV files in the traces folder\n",
    "for chromatogram_file in os.listdir(traces_dir):\n",
    "    chromatogram_path = os.path.join(traces_dir, chromatogram_file)\n",
    "    chromatogram_data = pd.read_csv(chromatogram_path).values[:seq_length]\n",
    "\n",
    "    # Check if chromatogram data is empty and continue to the next file if so\n",
    "    if chromatogram_data.size == 0:\n",
    "        print(f\"Ignoring empty chromatogram file {chromatogram_path}\")\n",
    "        continue\n",
    "\n",
    "    normalized_chromatogram_data = torch.tensor(chromatogram_data / chromatogram_data.max()).float()\n",
    "\n",
    "    # Construct the corresponding FASTA file path\n",
    "    sequence_name = os.path.splitext(chromatogram_file)[0]\n",
    "    fasta_path = os.path.join(fasta_dir, sequence_name + '.fasta')\n",
    "\n",
    "    # Read the sequence from the corresponding FASTA file\n",
    "    matching_sequence = str(list(SeqIO.parse(fasta_path, \"fasta\"))[0].seq)[:seq_length]\n",
    "\n",
    "    # Check if sequence is empty and continue to the next file if so\n",
    "    if not matching_sequence:\n",
    "        print(f\"Ignoring empty sequence in file {fasta_path}\")\n",
    "        continue\n",
    "\n",
    "    # One-hot encode the sequence\n",
    "    one_hot_sequence = torch.tensor([nucleotide_mapping[n] for n in matching_sequence]).float()\n",
    "\n",
    "    # Add data to lists\n",
    "    chromatogram_list.append(normalized_chromatogram_data)\n",
    "    sequence_list.append(one_hot_sequence)\n",
    "\n",
    "# Concatenate the data and split into batches\n",
    "normalized_chromatogram_data = torch.stack(chromatogram_list).split(batch_size)\n",
    "one_hot_sequences = torch.stack(sequence_list).split(batch_size)"
   ]
  },
  {
   "cell_type": "code",
   "execution_count": null,
   "metadata": {},
   "outputs": [],
   "source": [
    "from Bio import SeqIO\n",
    "import os\n",
    "\n",
    "# Directory containing the FASTA files\n",
    "fasta_dir = 'extracted_fasta'\n",
    "\n",
    "# Directory to save the individual FASTA files\n",
    "output_dir = 'fasta_files'\n",
    "os.makedirs(output_dir, exist_ok=True)\n",
    "\n",
    "# Iterate through all FASTA files in the directory\n",
    "for fasta_filename in os.listdir(fasta_dir):\n",
    "    if fasta_filename.endswith('.fasta') or fasta_filename.endswith('.fa'):\n",
    "        fasta_file = os.path.join(fasta_dir, fasta_filename)\n",
    "\n",
    "        # Iterate through the sequences in each FASTA file\n",
    "        for record in SeqIO.parse(fasta_file, \"fasta\"):\n",
    "            # Extract the name attribute from the header\n",
    "            sequence_name = [part.split(\":\")[1] for part in record.description.split() if part.startswith(\"name:\")][0]\n",
    "\n",
    "            # Construct the output file path\n",
    "            output_file_path = os.path.join(output_dir, sequence_name + '.fasta')\n",
    "\n",
    "            # Write the sequence to the individual FASTA file\n",
    "            with open(output_file_path, 'w') as output_file:\n",
    "                SeqIO.write(record, output_file, \"fasta\")\n"
   ]
  }
 ],
 "metadata": {
  "kernelspec": {
   "display_name": "base",
   "language": "python",
   "name": "python3"
  },
  "language_info": {
   "codemirror_mode": {
    "name": "ipython",
    "version": 3
   },
   "file_extension": ".py",
   "mimetype": "text/x-python",
   "name": "python",
   "nbconvert_exporter": "python",
   "pygments_lexer": "ipython3",
   "version": "3.9.15"
  },
  "orig_nbformat": 4
 },
 "nbformat": 4,
 "nbformat_minor": 2
}
